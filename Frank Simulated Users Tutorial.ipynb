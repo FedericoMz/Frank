{
 "cells": [
  {
   "cell_type": "code",
   "execution_count": 1,
   "id": "974068e0",
   "metadata": {},
   "outputs": [],
   "source": [
    "import random\n",
    "import pandas as pd\n",
    "import numpy as np\n",
    "from sklearn.neighbors import KNeighborsClassifier\n",
    "from sklearn.naive_bayes import GaussianNB"
   ]
  },
  {
   "cell_type": "code",
   "execution_count": 2,
   "id": "39044bc5",
   "metadata": {},
   "outputs": [],
   "source": [
    "from classes import *"
   ]
  },
  {
   "cell_type": "code",
   "execution_count": null,
   "id": "82b185be",
   "metadata": {},
   "outputs": [],
   "source": []
  },
  {
   "cell_type": "code",
   "execution_count": 3,
   "id": "462a4aaf",
   "metadata": {},
   "outputs": [],
   "source": [
    "user_train = pd.read_json(\"frank_HR_user_train.json\")\n",
    "target = \"is_promoted\"\n",
    "\n",
    "Y_user_train = list(user_train[target])\n",
    "Y_user_train = [bool(y) for y in Y_user_train]\n",
    "X_user_train = user_train.loc[:, user_train.columns!=target]\n",
    "X_user_train = X_user_train.values.tolist()\n"
   ]
  },
  {
   "cell_type": "code",
   "execution_count": 4,
   "id": "8f1a79df",
   "metadata": {},
   "outputs": [],
   "source": [
    "believe_value = 0.8 #For Frank Suggestions\n",
    "rethink_value = 0.8 #Individual Fairness\n",
    "fairness_value = 0.25 #top records to re-label (Group Fairness)\n",
    "\n",
    "expertise_value = 0.5\n",
    "\n",
    "\n",
    "user_model = GroundTruther(believe_value, rethink_value, fairness_value, expertise_value)\n",
    "\n",
    "#user_model = ModelBased(believe_value, rethink_value, fairness_value, GaussianNB(), X_user_train, Y_user_train)"
   ]
  },
  {
   "cell_type": "code",
   "execution_count": 8,
   "id": "7ca589dc",
   "metadata": {},
   "outputs": [
    {
     "data": {
      "text/plain": [
       "False"
      ]
     },
     "execution_count": 8,
     "metadata": {},
     "output_type": "execute_result"
    }
   ],
   "source": [
    "user_model = GroundTruther(believe_value, rethink_value, fairness_value, expertise_value)\n",
    "\n",
    "user_model.predict(X_user_train[0], True)"
   ]
  },
  {
   "cell_type": "code",
   "execution_count": 10,
   "id": "d7cf5c0b",
   "metadata": {},
   "outputs": [
    {
     "data": {
      "text/plain": [
       "False"
      ]
     },
     "execution_count": 10,
     "metadata": {},
     "output_type": "execute_result"
    }
   ],
   "source": [
    "user_model = ModelBased(believe_value, rethink_value, fairness_value, GaussianNB(), X_user_train, Y_user_train)\n",
    "\n",
    "user_model.predict(X_user_train[0], True)"
   ]
  },
  {
   "cell_type": "code",
   "execution_count": null,
   "id": "02aec6f0",
   "metadata": {},
   "outputs": [],
   "source": []
  },
  {
   "cell_type": "code",
   "execution_count": 38,
   "id": "7bf5e6b4",
   "metadata": {},
   "outputs": [],
   "source": []
  }
 ],
 "metadata": {
  "kernelspec": {
   "display_name": "Python 3 (ipykernel)",
   "language": "python",
   "name": "python3"
  },
  "language_info": {
   "codemirror_mode": {
    "name": "ipython",
    "version": 3
   },
   "file_extension": ".py",
   "mimetype": "text/x-python",
   "name": "python",
   "nbconvert_exporter": "python",
   "pygments_lexer": "ipython3",
   "version": "3.9.18"
  }
 },
 "nbformat": 4,
 "nbformat_minor": 5
}
